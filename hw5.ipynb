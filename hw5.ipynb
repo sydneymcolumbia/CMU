{
 "cells": [
  {
   "cell_type": "markdown",
   "id": "3de43ee0-56a4-47ab-ae21-e0730ee73cea",
   "metadata": {},
   "source": [
    "# Homework 5"
   ]
  },
  {
   "cell_type": "markdown",
   "id": "16ba2490-75a5-4ab3-a5c5-74dad693cc9b",
   "metadata": {},
   "source": [
    "## Question 1 (5 points)\n",
    "\n",
    "- Read the `mpg` dataset in a `pandas` data frame.\n",
    "- Execute the `describe` method of the data frame you created.\n",
    "- What function in R corresponds to `describe`?"
   ]
  },
  {
   "cell_type": "markdown",
   "id": "76559f91-9448-4b63-b397-502861dec080",
   "metadata": {},
   "source": [
    "## Question 2 (25 points)\n",
    "\n",
    "This will make you miss the `ggplot2` library! :D\n",
    "\n",
    "Modify the following plot\n",
    "\n",
    "```\n",
    "_ = sns.lmplot(\n",
    "    data = mpg,\n",
    "    x = \"displ\",\n",
    "    y = \"hwy\",\n",
    "    ci = None,\n",
    "    line_kws = {\"color\": \"black\"},\n",
    "    scatter_kws = {\"s\": 10},\n",
    "    lowess = True,\n",
    "    x_jitter = 0.5,\n",
    "    y_jitter = 0.5\n",
    ").set(\n",
    "    title = \"Fuel consumption by engine displacement\",\n",
    "    xlabel = \"Engine displacement\",\n",
    "    ylabel = \"Fuel consumption\"\n",
    ").tight_layout()\n",
    "```\n",
    "\n",
    "in such a way that:\n",
    "\n",
    "1. the points in the plot are colored by the variable `class` in the `mpg` dataset\n",
    "\n",
    "1. there is a single trend line applied that applies to all points in the plot instead of one trend line for each group defined by the `class` variable in the `mpg` dataset.\n",
    "\n",
    "Hint:\n",
    "- First, create a `lmplot` and set in that plot `hue = \"class\"` (to color the points by the \"class\" variable) and `fit_reg = False` (to suppress the trend line); assign the output of the `lmplot` function to a variable named `lm_plot` (you'll need this in a second).\n",
    "- Next, in the same cell, create a `regplot` and set `scatter = False` (to suppress plotting the points, which are already produced by the previous plot) as well as `ax = lm_plot.ax` (to tell `seaborn` to overlay the new plot to the previous one, rather than creating a new plot).\n",
    "- You should still pass relevant parameters to each of the two components of the plot (`lmplot` and `regplot`) in a sensible way so to get the desired final plot as the result.\n",
    "\n",
    "Here's a \"skeleton\" of the code that you'll need. It's up to you to fill it out!\n",
    "\n",
    "```\n",
    "lm_plot = sns.lmplot(\n",
    "    ... <- configure the lmplot appropriately\n",
    ").set(\n",
    "    title = \"Fuel consumption by engine displacement\",\n",
    "    xlabel = \"Engine displacement\",\n",
    "    ylabel = \"Fuel consumption\"\n",
    ").tight_layout()\n",
    "\n",
    "_ = sns.regplot(\n",
    "    ... <- configure the regplot appropriately\n",
    ")\n",
    "```"
   ]
  },
  {
   "cell_type": "markdown",
   "id": "74cdff4c-11c7-4f4a-9b43-a4bd29ca97ea",
   "metadata": {},
   "source": [
    "## Question 3 (20 points)\n",
    "\n",
    "Use the `plotnine` library to recreate this `ggplot2` plot (from lab 1) in Python:\n",
    "\n",
    "```\n",
    "ggplot(data = diamonds, mapping = aes(x = color, fill = clarity)) +\r",
    "  geom_bar(position = \"dodge\") +\r",
    "  scale_fill_brewer(palette = \"Set2\") +\r",
    "  labs(\r",
    "    x = \"Color\",\r",
    "    y = element_blank(),\r",
    "    fill = \"Diamond clarity\",\r",
    "    title = \"Clarity distribution by color\"\r",
    "  )\r",
    "```\n",
    "\n",
    "Hint: [this stackoverflow](https://stackoverflow.com/questions/49531655/issue-using-qualitative-brewer-palettes-in-plotnine) discussion might come in handy to set the palette colors. Also, note that the variable `clarity` is actually an ordered categorical variable (to see this, read the docs in R for the `diamonds` dataset with `? diamonds`). We can create a `pandas` equivalent of an R factor by using the `pandas.Categorical` class (see the docs [here](https://pandas.pydata.org/docs/reference/api/pandas.Categorical.html)). To get the same ordering that we got in R for the dodged bars, you will need to transform the `clarity` variable in the `diamonds` dataset that you read with `pandas` to a `pandas.Categorical` variable."
   ]
  },
  {
   "cell_type": "markdown",
   "id": "b5fc8e2e-97e6-4f4c-a28c-7cc353ab351a",
   "metadata": {},
   "source": [
    "## Question 4 (25 points)\n",
    "\n",
    "Solve again exercises 1 and 4  of Homework 2, but this time use `pandas`!\n",
    "\n",
    "You are encouraged to use the published solutions of Homework 2 and \"translate\" them from R's `tidyverse`/`dplyr` to Python's `pandas`.\n",
    "\n",
    "You might find this [\"translation guide\"](https://pandas.pydata.org/docs/getting_started/comparison/comparison_with_r.html) helpful!"
   ]
  },
  {
   "cell_type": "markdown",
   "id": "9eb17b49-9801-41d2-92a1-646f38440148",
   "metadata": {},
   "source": [
    "## Question 5 (25 points)\n",
    "\n",
    "Solve again exercises 1 and 2 of Homework 3, but this time use `pandas`!\n",
    "\n",
    "You are encouraged to use the published solutions of Homework 3 and \"translate\" them from R's `tidyverse`/`dplyr` to Python's `pandas`.\n",
    "\n",
    "Again, you might find this [\"translation guide\"](https://pandas.pydata.org/docs/getting_started/comparison/comparison_with_r.html) helpful!"
   ]
  },
  {
   "cell_type": "code",
   "execution_count": null,
   "id": "42e4bd01-aad3-49b5-b088-27f55aa6528e",
   "metadata": {},
   "outputs": [],
   "source": []
  }
 ],
 "metadata": {
  "kernelspec": {
   "display_name": "Python 3 (ipykernel)",
   "language": "python",
   "name": "python3"
  },
  "language_info": {
   "codemirror_mode": {
    "name": "ipython",
    "version": 3
   },
   "file_extension": ".py",
   "mimetype": "text/x-python",
   "name": "python",
   "nbconvert_exporter": "python",
   "pygments_lexer": "ipython3",
   "version": "3.11.5"
  }
 },
 "nbformat": 4,
 "nbformat_minor": 5
}
