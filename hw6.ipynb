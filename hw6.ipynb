{
 "cells": [
  {
   "cell_type": "markdown",
   "id": "3de43ee0-56a4-47ab-ae21-e0730ee73cea",
   "metadata": {},
   "source": [
    "# Homework 6"
   ]
  },
  {
   "cell_type": "markdown",
   "id": "16ba2490-75a5-4ab3-a5c5-74dad693cc9b",
   "metadata": {},
   "source": [
    "## Question 1 (40 points)\n",
    "\n",
    "You might find this a bit challenging at first, but trust me: with what you learned so far, you got this! 💪\n",
    "\n",
    "Re-implement the `ip_address2country_code` function of Homework 4 in Python. Show that your implementation works by executing your function using the following list of IP addresses as input:\n",
    "```\n",
    "[\n",
    "    \"171.182.200.160\",\n",
    "    \"203.45.67.89\",\n",
    "    \"10.0.0.23\",\n",
    "    \"172.16.32.55\",\n",
    "    \"67.195.44.68\"\n",
    "]\n",
    "```\n",
    "\n",
    "Hints:\n",
    "- You will need the [`requests` library](https://requests.readthedocs.io), and in particular you will need to use [the `requests.post` function](https://requests.readthedocs.io/en/latest/api/#requests.post).\n",
    "- You can use a list comprehension to create the request body (which you will pass to the `json` argument of the `request.post` function). According to [the ip-api API documentation](https://ip-api.com/docs/api:batch), it is acceptable to format the request body as a list of dictionaries:\n",
    "\n",
    "  ```\n",
    "  [\n",
    "      {\"query\": \"171.182.200.160\"},\n",
    "      {\"query\": \"203.45.67.89\"},\n",
    "      ...\n",
    "  ]\n",
    "  ```\n",
    "\n",
    "- You can parse the body of the response using the `json` method e.g.,\n",
    "\n",
    "  ```\n",
    "  response = requests.post(...)\n",
    "  response.json() # <- this is a list of dictionaries, with a dictionary for each input ip address\n",
    "  ```\n",
    "\n",
    "- Finally, you can use another list comprehension on the output of `response.json()` to create the output list of country codes, but be careful handling cases where the `countryCode` key is not available (e.g., because the IP address is private). You might find it convenient to use the [`get` method](https://docs.python.org/3/library/stdtypes.html#dict.get) of Python dictionaries, which allows to extract the value associated with a key when the key exists and return `None` when the key does not exist."
   ]
  },
  {
   "cell_type": "markdown",
   "id": "76559f91-9448-4b63-b397-502861dec080",
   "metadata": {},
   "source": [
    "## Question 2 (30 points)\n",
    "\n",
    "Use the following code to read the `log.txt` file into a list, such that each each line of the log file is an element of the list:\n",
    "\n",
    "```\n",
    "with open(\"./data/log.txt\") as log_file:\n",
    "    log = log_file.readlines()\n",
    "```\n",
    "\n",
    "Using what you know about for loops and regular expressions, iterate over the log line by line and extract into a list all IP addresses that appear in the log.\n",
    "\n",
    "Hints:\n",
    "\n",
    "- For this exercise, you can assume that there is at most 1 IP address on each line.\n",
    "\n",
    "- There are in total 20 IP addresses (some appearing more than once possibly) in the log. Your final list should have length 20.\n",
    "\n",
    "- You might find the `append` or `extend` methods of Python `list`s useful in this exercise."
   ]
  },
  {
   "cell_type": "markdown",
   "id": "74cdff4c-11c7-4f4a-9b43-a4bd29ca97ea",
   "metadata": {},
   "source": [
    "## Question 3 (30 points)\n",
    "\n",
    "Solve again the Exercise 1 of Lab 6, this time using Python.\n",
    "\n",
    "Hints:\n",
    "\n",
    "- Read the dataset into a `pandas.DataFrame` and name the data frame `purchases`.\n",
    "\n",
    "- Write a function that takes an email as input (e.g., `\"john.doe@gmail.com\"` and returns the masked email as output (e.g., `\"jxxxxxxe@gmail.com\"`). You may find the `split` and `join` methods of Python strings handy.\n",
    "\n",
    "- Use the `map` method of `purchases[\"email\"]` (which is an example of a `pandas.Series`) to apply your function to all elements of that column."
   ]
  },
  {
   "cell_type": "code",
   "execution_count": null,
   "id": "42e4bd01-aad3-49b5-b088-27f55aa6528e",
   "metadata": {},
   "outputs": [],
   "source": []
  }
 ],
 "metadata": {
  "kernelspec": {
   "display_name": "Python 3 (ipykernel)",
   "language": "python",
   "name": "python3"
  },
  "language_info": {
   "codemirror_mode": {
    "name": "ipython",
    "version": 3
   },
   "file_extension": ".py",
   "mimetype": "text/x-python",
   "name": "python",
   "nbconvert_exporter": "python",
   "pygments_lexer": "ipython3",
   "version": "3.11.5"
  }
 },
 "nbformat": 4,
 "nbformat_minor": 5
}
