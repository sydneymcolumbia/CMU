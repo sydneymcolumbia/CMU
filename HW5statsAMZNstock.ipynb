{
  "nbformat": 4,
  "nbformat_minor": 0,
  "metadata": {
    "colab": {
      "provenance": [],
      "authorship_tag": "ABX9TyPVG0knwjnqFiMza9/0bV8y",
      "include_colab_link": true
    },
    "kernelspec": {
      "name": "python3",
      "display_name": "Python 3"
    },
    "language_info": {
      "name": "python"
    }
  },
  "cells": [
    {
      "cell_type": "markdown",
      "metadata": {
        "id": "view-in-github",
        "colab_type": "text"
      },
      "source": [
        "<a href=\"https://colab.research.google.com/github/sydneymcolumbia/CMU/blob/main/HW5statsAMZNstock.ipynb\" target=\"_parent\"><img src=\"https://colab.research.google.com/assets/colab-badge.svg\" alt=\"Open In Colab\"/></a>"
      ]
    },
    {
      "cell_type": "code",
      "execution_count": null,
      "metadata": {
        "colab": {
          "base_uri": "https://localhost:8080/"
        },
        "id": "DpQg-yOMq1qv",
        "outputId": "7d83f06c-4507-4c52-954b-c168f45043ea"
      },
      "outputs": [
        {
          "output_type": "stream",
          "name": "stdout",
          "text": [
            "        Date     AMZN    SP500  10-Year TB\n",
            "0 2020-08-01  3167.46  3351.28     0.00562\n",
            "1 2020-07-01  3164.68  3271.12     0.00536\n",
            "2 2020-06-01  2758.82  3100.29     0.00653\n",
            "3 2020-05-01  2442.37  3044.31     0.00648\n",
            "4 2020-04-01  2474.00  2912.43     0.00622\n"
          ]
        }
      ],
      "source": [
        "import pandas as pd\n",
        "import statsmodels.api as sm\n",
        "\n",
        "# Read the Excel file\n",
        "\n",
        "df = pd.read_excel('AMZNdata.xlsx', engine='openpyxl')\n",
        "\n",
        "print(df.head())\n"
      ]
    },
    {
      "cell_type": "markdown",
      "source": [],
      "metadata": {
        "id": "NdJIeh6V2Wzv"
      }
    },
    {
      "cell_type": "code",
      "source": [
        "df.columns = ['Date', 'AMZN', 'SP500', '10-Year TB']\n",
        "\n",
        "\n",
        "# Display the first few rows of the DataFrame to check\n",
        "print(df.head())"
      ],
      "metadata": {
        "id": "GPhdAexo8m8b",
        "colab": {
          "base_uri": "https://localhost:8080/"
        },
        "outputId": "71e1cd66-3aad-4788-973f-49d3d9ab875c"
      },
      "execution_count": null,
      "outputs": [
        {
          "output_type": "stream",
          "name": "stdout",
          "text": [
            "        Date     AMZN    SP500  10-Year TB\n",
            "0 2020-08-01  3167.46  3351.28     0.00562\n",
            "1 2020-07-01  3164.68  3271.12     0.00536\n",
            "2 2020-06-01  2758.82  3100.29     0.00653\n",
            "3 2020-05-01  2442.37  3044.31     0.00648\n",
            "4 2020-04-01  2474.00  2912.43     0.00622\n"
          ]
        }
      ]
    },
    {
      "cell_type": "code",
      "source": [
        "\n",
        "# Assuming data is loaded into a DataFrame called df\n",
        "df['AMZN_Return'] = df['AMZN'].pct_change()\n",
        "df['SP500_Return'] = df['SP500'].pct_change()\n",
        "\n",
        "# Convert 10-Year TB to decimal\n",
        "df['10-Year TB'] = df['10-Year TB'].apply(lambda x: x.rstrip('%') if isinstance(x, str) else x).astype('float') / 100.0\n",
        "\n",
        "#df['10-Year TB'] = df['10-Year TB'].str.rstrip('%').astype('float') / 100.0\n",
        "\n",
        "# Calculate excess returns\n",
        "df['AMZN_Excess'] = df['AMZN_Return'] - df['10-Year TB']\n",
        "df['SP500_Excess'] = df['SP500_Return'] - df['10-Year TB']\n",
        "\n",
        "# Regression\n",
        "X = df['SP500_Excess'][1:]  # Exclude the first row because of NaN from pct_change()\n",
        "y = df['AMZN_Excess'][1:]\n",
        "X = sm.add_constant(X)  # Adds a constant term to the predictor\n",
        "\n",
        "model = sm.OLS(y, X)\n",
        "results = model.fit()\n",
        "\n",
        "# Beta is the coefficient of SP500_Excess\n",
        "beta = results.params['SP500_Excess']\n",
        "\n",
        "# 95% Confidence Interval\n",
        "conf_int = results.conf_int().loc['SP500_Excess']\n",
        "\n",
        "# Hypothesis Testing\n",
        "if 1.33 >= conf_int[0] and 1.33 <= conf_int[1]:\n",
        "    print(\"Fail to reject the null hypothesis\")\n",
        "else:\n",
        "    print(\"Reject the null hypothesis\")\n",
        "\n"
      ],
      "metadata": {
        "colab": {
          "base_uri": "https://localhost:8080/"
        },
        "id": "iSi8Vhyu3G2b",
        "outputId": "359e710c-5128-453d-9b2b-d6042a5b3097"
      },
      "execution_count": null,
      "outputs": [
        {
          "output_type": "stream",
          "name": "stdout",
          "text": [
            "Fail to reject the null hypothesis\n"
          ]
        }
      ]
    },
    {
      "cell_type": "code",
      "source": [
        "#calc value of intercept (α)\n",
        "\n",
        "alpha = results.params['const']\n",
        "\n",
        "print(alpha)\n"
      ],
      "metadata": {
        "colab": {
          "base_uri": "https://localhost:8080/"
        },
        "id": "RfJJwL-PlpIC",
        "outputId": "f9514224-00bf-4742-ebae-c0cf02df3899"
      },
      "execution_count": null,
      "outputs": [
        {
          "output_type": "stream",
          "name": "stdout",
          "text": [
            "-0.013395532143172528\n"
          ]
        }
      ]
    },
    {
      "cell_type": "code",
      "source": [
        "#Retrieve the Standard Error of the Intercept\n",
        "se_alpha = results.bse['const']\n",
        "\n",
        "print(se_alpha)\n",
        "\n"
      ],
      "metadata": {
        "colab": {
          "base_uri": "https://localhost:8080/"
        },
        "id": "2Qq8WwHDlv1W",
        "outputId": "8a1863bb-55fa-4093-b06f-37239f931ac5"
      },
      "execution_count": null,
      "outputs": [
        {
          "output_type": "stream",
          "name": "stdout",
          "text": [
            "0.00619032426588856\n"
          ]
        }
      ]
    },
    {
      "cell_type": "code",
      "source": [
        "#Calculate the t-statistic\n",
        "#t = \\frac{\\alpha - 0}{\\text{se_alpha}}\n",
        "t_statistic = alpha / se_alpha\n",
        "\n",
        "print(t_statistic)\n"
      ],
      "metadata": {
        "colab": {
          "base_uri": "https://localhost:8080/"
        },
        "id": "Jzn7yY_flzCM",
        "outputId": "2f584c3d-d955-46a3-927d-13a7ca37cf57"
      },
      "execution_count": null,
      "outputs": [
        {
          "output_type": "stream",
          "name": "stdout",
          "text": [
            "-2.1639467607517537\n"
          ]
        }
      ]
    },
    {
      "cell_type": "code",
      "source": [
        "#test hypothesis\n",
        "from scipy.stats import t\n",
        "\n",
        "# Degrees of freedom is n - 2 (where n is the number of observations)\n",
        "df = len(df) - 2\n",
        "critical_t_value = t.ppf(1 - 0.025, df)  # 0.025 in each tail for a 5% significance level\n",
        "\n",
        "if abs(t_statistic) > critical_t_value:\n",
        "    print(\"Reject the null hypothesis that α = 0.\")\n",
        "else:\n",
        "    print(\"Fail to reject the null hypothesis that α = 0.\")\n",
        "\n"
      ],
      "metadata": {
        "colab": {
          "base_uri": "https://localhost:8080/"
        },
        "id": "kReI3biOl_HW",
        "outputId": "ef331dd0-b34a-4f56-baa8-1af463ee8084"
      },
      "execution_count": null,
      "outputs": [
        {
          "output_type": "stream",
          "name": "stdout",
          "text": [
            "Reject the null hypothesis that α = 0.\n"
          ]
        }
      ]
    }
  ]
}